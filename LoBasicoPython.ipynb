{
  "nbformat": 4,
  "nbformat_minor": 0,
  "metadata": {
    "colab": {
      "provenance": [],
      "authorship_tag": "ABX9TyMVcy+AXUrxwsMNi+GwqI0Q",
      "include_colab_link": true
    },
    "kernelspec": {
      "name": "python3",
      "display_name": "Python 3"
    },
    "language_info": {
      "name": "python"
    }
  },
  "cells": [
    {
      "cell_type": "markdown",
      "metadata": {
        "id": "view-in-github",
        "colab_type": "text"
      },
      "source": [
        "<a href=\"https://colab.research.google.com/github/AlvaroTorresVazquez/Actividad-1/blob/main/LoBasicoPython.ipynb\" target=\"_parent\"><img src=\"https://colab.research.google.com/assets/colab-badge.svg\" alt=\"Open In Colab\"/></a>"
      ]
    },
    {
      "cell_type": "markdown",
      "source": [
        "Variables en Python"
      ],
      "metadata": {
        "id": "X18pY-oPWLL1"
      }
    },
    {
      "cell_type": "code",
      "execution_count": 3,
      "metadata": {
        "colab": {
          "base_uri": "https://localhost:8080/"
        },
        "id": "UXbgOPm5VL-k",
        "outputId": "0d302ce3-a6f4-4bca-9b2d-8dd1648f7c74"
      },
      "outputs": [
        {
          "output_type": "stream",
          "name": "stdout",
          "text": [
            "1\n",
            "23.5\n"
          ]
        },
        {
          "output_type": "execute_result",
          "data": {
            "text/plain": [
              "float"
            ]
          },
          "metadata": {},
          "execution_count": 3
        }
      ],
      "source": [
        "a=1\n",
        "b=23.5\n",
        "print(a)\n",
        "print(b)\n",
        "type(b)"
      ]
    },
    {
      "cell_type": "markdown",
      "source": [
        "Sentencia if else\n",
        "1. La sentencia condicional en Python (al igual que en muchos otros lenguajes de programación)\n",
        "es if. En su escritura debemos añadir una expresión de comparación terminando con\n",
        "dos puntos al final de la línea"
      ],
      "metadata": {
        "id": "qIFqUQBoYhi2"
      }
    },
    {
      "cell_type": "code",
      "source": [
        "edad=int(input(\"Ingrese su edad  \"))\n",
        "if edad>=18:\n",
        "  print(\"Es mayor de edad\")\n",
        "else:\n",
        "  print(\"Es menor de edad\")"
      ],
      "metadata": {
        "colab": {
          "base_uri": "https://localhost:8080/"
        },
        "id": "FNWDlaqUY40V",
        "outputId": "a23f3617-1296-4f06-eca4-0cf8f7b7db17"
      },
      "execution_count": 5,
      "outputs": [
        {
          "output_type": "stream",
          "name": "stdout",
          "text": [
            "Ingrese su edad  20\n",
            "Es mayor de edad\n"
          ]
        }
      ]
    },
    {
      "cell_type": "markdown",
      "source": [
        "## Ciclo for\n",
        "1.1 Python permite recorrer aquellos tipos de datos que sean iterables, es decir, que admitan\n",
        "iterar2\n",
        "sobre ellos"
      ],
      "metadata": {
        "id": "ToGIMaW3awW2"
      }
    },
    {
      "cell_type": "code",
      "source": [
        "letra='Alvaro'\n",
        "for i in letra:\n",
        "  print(i)"
      ],
      "metadata": {
        "colab": {
          "base_uri": "https://localhost:8080/"
        },
        "id": "Sv0Vx5cXbGrW",
        "outputId": "f20faa1c-8b84-4a61-88c0-da7536eeaf41"
      },
      "execution_count": 6,
      "outputs": [
        {
          "output_type": "stream",
          "name": "stdout",
          "text": [
            "A\n",
            "l\n",
            "v\n",
            "a\n",
            "r\n",
            "o\n"
          ]
        }
      ]
    },
    {
      "cell_type": "markdown",
      "source": [
        "## Las Listas\n",
        "1.1 Las listas permiten almacenar objetos mediante un orden definido"
      ],
      "metadata": {
        "id": "BNY8EQn6cAit"
      }
    },
    {
      "cell_type": "code",
      "source": [
        "frutas=['manzana','pera','naranja']\n",
        "for fruta in frutas:\n",
        "  print(fruta)\n",
        "\n",
        "frutas.append('uva')\n",
        "print(frutas)\n",
        "\n",
        "edades=[20,30,10]\n",
        "for edad in edades:\n",
        "  print(edad)\n",
        ""
      ],
      "metadata": {
        "colab": {
          "base_uri": "https://localhost:8080/"
        },
        "id": "SNTvTWA_cQUV",
        "outputId": "444c8331-e184-49ed-bf75-6c36ae077d77"
      },
      "execution_count": 9,
      "outputs": [
        {
          "output_type": "stream",
          "name": "stdout",
          "text": [
            "manzana\n",
            "pera\n",
            "naranja\n",
            "['manzana', 'pera', 'naranja', 'uva']\n",
            "20\n",
            "30\n",
            "10\n"
          ]
        }
      ]
    },
    {
      "cell_type": "markdown",
      "source": [
        "## Tuplas\n",
        "\n",
        "1.1 El concepto de tupla es muy similar al de lista. Aunque hay algunas diferencias menores, lo\n",
        "fundamental es que, mientras una lista es mutable y se puede modificar, una tupla no admite\n",
        "cambios y por lo tanto, es inmutable.\n",
        "1"
      ],
      "metadata": {
        "id": "n0qHV2L_eFq1"
      }
    },
    {
      "cell_type": "code",
      "source": [
        "colores=('azul','verde')\n",
        "\n",
        "for color in colores:\n",
        "  print(color)\n",
        "#"
      ],
      "metadata": {
        "colab": {
          "base_uri": "https://localhost:8080/"
        },
        "id": "ksF2v_DWeP_t",
        "outputId": "673bede6-d8b3-42e0-d1bd-8b720efc850d"
      },
      "execution_count": 10,
      "outputs": [
        {
          "output_type": "stream",
          "name": "stdout",
          "text": [
            "azul\n",
            "verde\n"
          ]
        }
      ]
    },
    {
      "cell_type": "markdown",
      "source": [
        "## Diccionarios\n",
        "\n",
        "1. Podemos trasladar el concepto de diccionario de la vida real al de diccionario en Python.\n",
        "Al fin y al cabo un diccionario es un objeto que contiene palabras, y cada palabra tiene\n",
        "asociado un significado."
      ],
      "metadata": {
        "id": "psOG0FyafEHU"
      }
    },
    {
      "cell_type": "code",
      "source": [
        "profe={\n",
        "    'nombre:':'Alvaro Torres',\n",
        "    'edad:':59,\n",
        "    'peso:':75,\n",
        "    'estatura:':1.75\n",
        "}\n",
        "\n",
        "profe\n",
        "\n",
        "for clave,valor in profe.items():\n",
        "  print(clave,valor)"
      ],
      "metadata": {
        "colab": {
          "base_uri": "https://localhost:8080/"
        },
        "id": "74ojefTBfQNN",
        "outputId": "0816a94c-31fb-4064-8531-86e72419b518"
      },
      "execution_count": 15,
      "outputs": [
        {
          "output_type": "stream",
          "name": "stdout",
          "text": [
            "nombre: Alvaro Torres\n",
            "edad: 59\n",
            "peso: 75\n",
            "estatura: 1.75\n"
          ]
        }
      ]
    },
    {
      "cell_type": "markdown",
      "source": [
        "## Funciónes\n",
        "\n",
        "1.1 Para definir una función utilizamos la palabra reservada def seguida del nombre6 de\n",
        "la función. A continuación aparecerán 0 o más parámetros separados por comas (entre\n",
        "paréntesis), finalizando la línea con dos puntos : En la siguiente línea empezaría el cuerpo\n",
        "de la función que puede contener 1 o más sentencias, incluyendo (o no) una sentencia de\n",
        "retorno con el resultado mediante return."
      ],
      "metadata": {
        "id": "zyCe0A_6ieCl"
      }
    },
    {
      "cell_type": "code",
      "source": [
        "def hola():\n",
        "  print('Hola Alvaro')\n",
        "def suma(a,b):\n",
        "  return a+b\n",
        "hola()\n",
        "suma(2,3)"
      ],
      "metadata": {
        "colab": {
          "base_uri": "https://localhost:8080/"
        },
        "id": "_BK_kvpCirDc",
        "outputId": "6e2f2163-7ee0-4fc2-9c38-d1830c92b21e"
      },
      "execution_count": 17,
      "outputs": [
        {
          "output_type": "stream",
          "name": "stdout",
          "text": [
            "Hola Alvaro\n"
          ]
        },
        {
          "output_type": "execute_result",
          "data": {
            "text/plain": [
              "5"
            ]
          },
          "metadata": {},
          "execution_count": 17
        }
      ]
    },
    {
      "cell_type": "markdown",
      "source": [
        "## Programación orientada a objetos\n",
        "\n",
        "1. La programación orientada a objetos (POO) o en sus siglas inglesas OOP es una manera de\n",
        "programar que permite llevar al código mecanismos usados con entidades de la vida real.\n",
        "Sus beneficios son los siguientes:\n",
        "Encapsulamiento Permite empaquetar el código dentro de una unidad (objeto) donde\n",
        "se puede determinar el ámbito de actuación.\n",
        "Abstracción Permite generalizar los tipos de objetos a través de las clases y simplificar\n",
        "el programa.\n",
        "Herencia Permite reutilizar código al poder heredar atributos y comportamientos de una\n",
        "clase a otra"
      ],
      "metadata": {
        "id": "pIlTonZflFOd"
      }
    },
    {
      "cell_type": "code",
      "source": [
        "# Clase persona\n",
        "\n",
        "class Person:\n",
        "  # constructor self -- asi mismo\n",
        "  def __init__(self, nombre, edad):\n",
        "    self.nombre = nombre\n",
        "    self.edad = edad\n",
        "  # metodo imprimir texto\n",
        "  def imprimir(self):\n",
        "    print(self.nombre, self.edad)\n",
        "\n",
        "# objeto p1\n",
        "# instanciar Person(\"John\", 36)\n",
        "p1 = Person(\"Alvaro\", 59)\n",
        "\n",
        "\n",
        "# imprime el atributo nombre del objeto p1\n",
        "print(p1.nombre)\n",
        "# imprime el atributo edad del objeto p1\n",
        "print(p1.edad)\n",
        "\n",
        "# otro ejemplo\n",
        "print('-----------------')\n",
        "print('otro ejemplo')\n",
        "print('----------------')\n",
        "alvaro=Person('Graciela',55)\n",
        "print(alvaro.nombre)\n",
        "print(alvaro.edad)\n",
        "\n",
        "print('------------------')\n",
        "print('Tercer  ejemplo')\n",
        "print('------------------')\n",
        "alvaro.imprimir()\n"
      ],
      "metadata": {
        "colab": {
          "base_uri": "https://localhost:8080/"
        },
        "id": "Bf7xtYEFlSiR",
        "outputId": "b946e0b6-9817-43a9-d865-786952a14599"
      },
      "execution_count": 25,
      "outputs": [
        {
          "output_type": "stream",
          "name": "stdout",
          "text": [
            "Alvaro\n",
            "59\n",
            "-----------------\n",
            "otro ejemplo\n",
            "----------------\n",
            "Graciela\n",
            "55\n",
            "------------------\n",
            "Tercer  ejemplo\n",
            "------------------\n",
            "Graciela 55\n"
          ]
        }
      ]
    }
  ]
}